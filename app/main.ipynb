{
 "cells": [
  {
   "cell_type": "code",
   "execution_count": null,
   "metadata": {
    "collapsed": false,
    "pycharm": {
     "name": "#%%\n"
    }
   },
   "outputs": [],
   "source": [
    "import numpy as np\n",
    "import pandas as pd"
   ]
  },
  {
   "cell_type": "markdown",
   "metadata": {
    "collapsed": false,
    "pycharm": {
     "name": "#%% md\n"
    }
   },
   "source": [
    "# Task 0\n",
    "Read the dataset from csv file & perform data cleaning - remove all rows, which contains `?` in some columns.\n",
    "Also check for data correctness (salary & salary $K)."
   ]
  },
  {
   "cell_type": "code",
   "execution_count": null,
   "metadata": {
    "collapsed": false,
    "pycharm": {
     "name": "#%%\n"
    }
   },
   "outputs": [],
   "source": [
    "# Завантажуємо датасет\n",
    "df = pd.read_csv('../data/adult.csv', index_col=0)\n",
    "\n",
    "# Перевіряємо структуру даних\n",
    "print(\"Розмір датасету:\", df.shape)\n",
    "print(\"\\nПерші 5 рядків:\")\n",
    "print(df.head())\n",
    "\n",
    "# Перевіряємо на наявність знаків питання\n",
    "print(\"\\nПеревірка на знаки питання в кожній колонці:\")\n",
    "for col in df.columns:\n",
    "    question_count = (df[col] == '?').sum()\n",
    "    if question_count > 0:\n",
    "        print(f\"{col}: {question_count} знаків питання\")\n",
    "\n",
    "# Видаляємо рядки з знаками питання\n",
    "print(f\"\\nРозмір до очищення: {df.shape}\")\n",
    "df_clean = df[~df.isin(['?']).any(axis=1)]\n",
    "print(f\"Розмір після очищення: {df_clean.shape}\")\n",
    "\n",
    "# Перевіряємо відповідність між salary та salary K$\n",
    "print(\"\\nПеревірка відповідності salary та salary K$:\")\n",
    "print(\"Унікальні значення salary:\", df_clean['salary'].unique())\n",
    "print(\"Унікальні значення salary K$:\", df_clean['salary K$'].unique())\n",
    "\n",
    "# Перевіряємо логічну відповідність\n",
    "mismatch = df_clean[\n",
    "    ((df_clean['salary'] == '>50K') & (df_clean['salary K$'] <= 50)) |\n",
    "    ((df_clean['salary'] == '<=50K') & (df_clean['salary K$'] > 50))\n",
    "]\n",
    "print(f\"Кількість невідповідностей: {len(mismatch)}\")\n",
    "\n",
    "# Зберігаємо очищений датасет\n",
    "df = df_clean.copy()\n",
    "print(f\"\\nФінальний розмір датасету: {df.shape}\")"
   ]
  },
  {
   "cell_type": "markdown",
   "metadata": {
    "collapsed": false,
    "pycharm": {
     "name": "#%% md\n"
    }
   },
   "source": [
    "# Task 1\n",
    "Print the count of men and women in the dataset."
   ]
  },
  {
   "cell_type": "code",
   "execution_count": 1,
   "metadata": {
    "collapsed": false,
    "pycharm": {
     "name": "#%%\n"
    }
   },
   "outputs": [],
   "source": [
    "# Підраховуємо кількість чоловіків та жінок\n",
    "sex_counts = df['sex'].value_counts()\n",
    "print(\"Кількість людей за статтю:\")\n",
    "print(sex_counts)\n",
    "print(f\"\\nЧоловіків: {sex_counts['Male']}\")\n",
    "print(f\"Жінок: {sex_counts['Female']}\")"
   ]
  },
  {
   "cell_type": "markdown",
   "metadata": {
    "collapsed": false,
    "pycharm": {
     "name": "#%% md\n"
    }
   },
   "source": [
    "# Task 2\n",
    "Find the average age of men in dataset"
   ]
  },
  {
   "cell_type": "code",
   "execution_count": null,
   "metadata": {
    "collapsed": false,
    "pycharm": {
     "name": "#%%\n"
    }
   },
   "outputs": [],
   "source": [
    "# Знаходимо середній вік чоловіків\n",
    "men_avg_age = df[df['sex'] == 'Male']['age'].mean()\n",
    "print(f\"Середній вік чоловіків: {men_avg_age:.2f} років\")"
   ]
  },
  {
   "cell_type": "markdown",
   "metadata": {
    "collapsed": false,
    "pycharm": {
     "name": "#%% md\n"
    }
   },
   "source": [
    "# Task 3\n",
    "Get the percentage of people from Poland (native-country)"
   ]
  },
  {
   "cell_type": "code",
   "execution_count": null,
   "metadata": {
    "collapsed": false,
    "pycharm": {
     "name": "#%%\n"
    }
   },
   "outputs": [],
   "source": [
    "# Отримуємо відсоток людей з Польщі\n",
    "poland_count = (df['native-country'] == 'Poland').sum()\n",
    "total_count = len(df)\n",
    "poland_percentage = (poland_count / total_count) * 100\n",
    "\n",
    "print(f\"Кількість людей з Польщі: {poland_count}\")\n",
    "print(f\"Загальна кількість людей: {total_count}\")\n",
    "print(f\"Відсоток людей з Польщі: {poland_percentage:.2f}%\")"
   ]
  },
  {
   "cell_type": "markdown",
   "metadata": {
    "collapsed": false,
    "pycharm": {
     "name": "#%% md\n"
    }
   },
   "source": [
    "# Task 4\n",
    "Get the mean and standard deviation of the age for people who earn > 50K per year. After this, get it for those who earn <= 50K."
   ]
  },
  {
   "cell_type": "code",
   "execution_count": 2,
   "metadata": {
    "collapsed": false,
    "pycharm": {
     "name": "#%%\n"
    }
   },
   "outputs": [],
   "source": [
    "# Статистика віку для людей з зарплатою > 50K\n",
    "high_salary = df[df['salary'] == '>50K']['age']\n",
    "high_salary_mean = high_salary.mean()\n",
    "high_salary_std = high_salary.std()\n",
    "\n",
    "print(\"Люди з зарплатою > 50K:\")\n",
    "print(f\"Середній вік: {high_salary_mean:.2f} років\")\n",
    "print(f\"Стандартне відхилення: {high_salary_std:.2f} років\")\n",
    "\n",
    "# Статистика віку для людей з зарплатою <= 50K\n",
    "low_salary = df[df['salary'] == '<=50K']['age']\n",
    "low_salary_mean = low_salary.mean()\n",
    "low_salary_std = low_salary.std()\n",
    "\n",
    "print(\"\\nЛюди з зарплатою <= 50K:\")\n",
    "print(f\"Середній вік: {low_salary_mean:.2f} років\")\n",
    "print(f\"Стандартне відхилення: {low_salary_std:.2f} років\")"
   ]
  },
  {
   "cell_type": "markdown",
   "metadata": {
    "collapsed": false,
    "pycharm": {
     "name": "#%% md\n"
    }
   },
   "source": [
    "# Task 5\n",
    "Check, if there are some people without higher education (education: Bachelors, Prof-school, Assoc-acdm, Assoc-voc, Masters, Doctorate), but with > 50K salary"
   ]
  },
  {
   "cell_type": "code",
   "execution_count": 3,
   "metadata": {
    "collapsed": false,
    "pycharm": {
     "name": "#%%\n"
    }
   },
   "outputs": [],
   "source": [
    "# Визначаємо вищу освіту\n",
    "higher_education = ['Bachelors', 'Prof-school', 'Assoc-acdm', 'Assoc-voc', 'Masters', 'Doctorate']\n",
    "\n",
    "# Люди без вищої освіти з зарплатою > 50K\n",
    "no_higher_ed_high_salary = df[\n",
    "    (~df['education'].isin(higher_education)) & \n",
    "    (df['salary'] == '>50K')\n",
    "]\n",
    "\n",
    "print(f\"Кількість людей без вищої освіти з зарплатою > 50K: {len(no_higher_ed_high_salary)}\")\n",
    "\n",
    "if len(no_higher_ed_high_salary) > 0:\n",
    "    print(\"\\nТак, є люди без вищої освіти з високою зарплатою!\")\n",
    "    print(f\"Це складає {len(no_higher_ed_high_salary)} осіб\")\n",
    "    \n",
    "    # Показуємо розподіл їх освіти\n",
    "    print(\"\\nРозподіл за рівнем освіти:\")\n",
    "    print(no_higher_ed_high_salary['education'].value_counts())\n",
    "else:\n",
    "    print(\"Немає людей без вищої освіти з зарплатою > 50K\")"
   ]
  },
  {
   "cell_type": "markdown",
   "metadata": {
    "collapsed": false,
    "pycharm": {
     "name": "#%% md\n"
    }
   },
   "source": [
    "# Task 6\n",
    "Get the statistics of age for each type of education. Use `groupby` and `describe` for this."
   ]
  },
  {
   "cell_type": "code",
   "execution_count": null,
   "metadata": {
    "collapsed": false,
    "pycharm": {
     "name": "#%%\n"
    }
   },
   "outputs": [],
   "source": [
    "# Статистика віку за типом освіти\n",
    "age_by_education = df.groupby('education')['age'].describe()\n",
    "\n",
    "print(\"Статистика віку за типом освіти:\")\n",
    "print(age_by_education.round(2))\n",
    "\n",
    "# Додатково - сортуємо за середнім віком\n",
    "print(\"\\nТипи освіти відсортовані за середнім віком:\")\n",
    "mean_age_sorted = age_by_education['mean'].sort_values(ascending=False)\n",
    "print(mean_age_sorted.round(2))"
   ]
  },
  {
   "cell_type": "markdown",
   "metadata": {
    "collapsed": false,
    "pycharm": {
     "name": "#%% md\n"
    }
   },
   "source": [
    "# Task 7\n",
    "Compare the married and non-married men salaries. Who earns more? (>50K or <=50K)\n",
    "Married men are those, whom `marital-status` starts with \"Married\". Others are not."
   ]
  },
  {
   "cell_type": "code",
   "execution_count": 5,
   "metadata": {
    "collapsed": false,
    "pycharm": {
     "name": "#%%\n"
    }
   },
   "outputs": [],
   "source": [
    "# Фільтруємо тільки чоловіків\n",
    "men_df = df[df['sex'] == 'Male']\n",
    "\n",
    "# Визначаємо одружених та неодружених чоловіків\n",
    "married_men = men_df[men_df['marital-status'].str.startswith('Married')]\n",
    "non_married_men = men_df[~men_df['marital-status'].str.startswith('Married')]\n",
    "\n",
    "# Порівнюємо зарплати\n",
    "print(\"Одружені чоловіки:\")\n",
    "married_salary_counts = married_men['salary'].value_counts()\n",
    "print(married_salary_counts)\n",
    "married_high_salary_pct = (married_salary_counts['>50K'] / len(married_men)) * 100\n",
    "print(f\"Відсоток з високою зарплатою: {married_high_salary_pct:.2f}%\")\n",
    "\n",
    "print(\"\\nНеодружені чоловіки:\")\n",
    "non_married_salary_counts = non_married_men['salary'].value_counts()\n",
    "print(non_married_salary_counts)\n",
    "non_married_high_salary_pct = (non_married_salary_counts['>50K'] / len(non_married_men)) * 100\n",
    "print(f\"Відсоток з високою зарплатою: {non_married_high_salary_pct:.2f}%\")\n",
    "\n",
    "print(f\"\\nВисновок:\")\n",
    "if married_high_salary_pct > non_married_high_salary_pct:\n",
    "    print(\"Одружені чоловіки заробляють більше\")\n",
    "else:\n",
    "    print(\"Неодружені чоловіки заробляють більше\")\n",
    "    \n",
    "print(f\"Різниця: {abs(married_high_salary_pct - non_married_high_salary_pct):.2f} процентних пунктів\")"
   ]
  },
  {
   "cell_type": "markdown",
   "metadata": {
    "collapsed": false,
    "pycharm": {
     "name": "#%% md\n"
    }
   },
   "source": [
    "# Task 8\n",
    "Get the max hours per week some person works. How many people works the same amount of hours per week?"
   ]
  },
  {
   "cell_type": "code",
   "execution_count": 6,
   "metadata": {
    "collapsed": false,
    "pycharm": {
     "name": "#%%\n"
    }
   },
   "outputs": [],
   "source": [
    "# Знаходимо максимальну кількість годин на тиждень\n",
    "max_hours = df['hours-per-week'].max()\n",
    "print(f\"Максимальна кількість годин на тиждень: {max_hours}\")\n",
    "\n",
    "# Підраховуємо скільки людей працює таку ж кількість годин\n",
    "people_with_max_hours = (df['hours-per-week'] == max_hours).sum()\n",
    "print(f\"Кількість людей, які працюють {max_hours} годин на тиждень: {people_with_max_hours}\")\n",
    "\n",
    "# Додаткова інформація\n",
    "print(f\"\\nДодаткова статистика годин роботи:\")\n",
    "hours_stats = df['hours-per-week'].describe()\n",
    "print(hours_stats)"
   ]
  },
  {
   "cell_type": "markdown",
   "metadata": {
    "collapsed": false,
    "pycharm": {
     "name": "#%% md\n"
    }
   },
   "source": [
    "# Task 9\n",
    "Analyze the correlation between data in dataset. Understand connected fields in it and print highlight thier connection."
   ]
  },
  {
   "cell_type": "code",
   "execution_count": 7,
   "metadata": {
    "collapsed": false,
    "pycharm": {
     "name": "#%%\n"
    }
   },
   "outputs": [],
   "source": [
    "# Спочатку підготуємо дані для кореляційного аналізу\n",
    "# Кодуємо категоріальні змінні\n",
    "df_corr = df.copy()\n",
    "\n",
    "# Кодуємо salary як числову змінну\n",
    "df_corr['salary_numeric'] = (df_corr['salary'] == '>50K').astype(int)\n",
    "\n",
    "# Кодуємо стать\n",
    "df_corr['sex_numeric'] = (df_corr['sex'] == 'Male').astype(int)\n",
    "\n",
    "# Кодуємо сімейний стан (одружені = 1)\n",
    "df_corr['married'] = df_corr['marital-status'].str.startswith('Married').astype(int)\n",
    "\n",
    "# Відбираємо числові колонки та закодовані категоріальні\n",
    "numeric_cols = ['age', 'hours-per-week', 'salary K$', 'salary_numeric', 'sex_numeric', 'married']\n",
    "correlation_matrix = df_corr[numeric_cols].corr()\n",
    "\n",
    "print(\"Кореляційна матриця:\")\n",
    "print(correlation_matrix.round(3))\n",
    "\n",
    "# Знаходимо найбільш корельовані пари (крім діагоналі)\n",
    "print(\"\\nНайсильніші кореляції:\")\n",
    "correlations = []\n",
    "for i in range(len(correlation_matrix.columns)):\n",
    "    for j in range(i+1, len(correlation_matrix.columns)):\n",
    "        col1 = correlation_matrix.columns[i]\n",
    "        col2 = correlation_matrix.columns[j]\n",
    "        corr_value = correlation_matrix.iloc[i, j]\n",
    "        correlations.append((abs(corr_value), corr_value, col1, col2))\n",
    "\n",
    "# Сортуємо за абсолютним значенням кореляції\n",
    "correlations.sort(reverse=True)\n",
    "\n",
    "for abs_corr, corr, col1, col2 in correlations[:5]:\n",
    "    print(f\"{col1} ↔ {col2}: {corr:.3f}\")\n",
    "    \n",
    "print(\"\\nОсновні висновки:\")\n",
    "print(\"1. Зарплата (salary_numeric) найбільше корелює з:\")\n",
    "salary_corr = correlation_matrix['salary_numeric'].abs().sort_values(ascending=False)[1:]  # виключаємо саму себе\n",
    "for col in salary_corr.head(3).index:\n",
    "    corr_val = correlation_matrix.loc['salary_numeric', col]\n",
    "    print(f\"   - {col}: {corr_val:.3f}\")\n",
    "\n",
    "print(\"\\n2. Інші важливі зв'язки:\")\n",
    "print(f\"   - Вік та одруженість: {correlation_matrix.loc['age', 'married']:.3f}\")\n",
    "print(f\"   - Стать та зарплата: {correlation_matrix.loc['sex_numeric', 'salary_numeric']:.3f}\")\n",
    "print(f\"   - Години роботи та зарплата: {correlation_matrix.loc['hours-per-week', 'salary_numeric']:.3f}\")"
   ]
  }
 ],
 "metadata": {
  "kernelspec": {
   "display_name": "Python 3",
   "language": "python",
   "name": "python3"
  },
  "language_info": {
   "codemirror_mode": {
    "name": "ipython",
    "version": 2
   },
   "file_extension": ".py",
   "mimetype": "text/x-python",
   "name": "python",
   "nbconvert_exporter": "python",
   "pygments_lexer": "ipython2",
   "version": "2.7.6"
  }
 },
 "nbformat": 4,
 "nbformat_minor": 0
}
